{
 "cells": [
  {
   "cell_type": "code",
   "execution_count": 298,
   "metadata": {},
   "outputs": [
    {
     "name": "stdout",
     "output_type": "stream",
     "text": [
      "[-1. -1. -1. -1. -1.  0.  0.  0.  0.  0.  0.  0.  0.  0.  0.  0.  0.  0.\n",
      "  0.  0.  0.  0.  0. 10.  0.]\n",
      "[-1.  0.  0.  0.  0. -1.  0.  0.  0.  0. -1.  0.  0.  0.  0. -1.  0.  0.\n",
      "  0. 10. -1.  0.  0.  0.  0.]\n",
      "[ 0.  0.  0.  0.  0.  0.  0.  0.  0.  0.  0.  0.  0. 10.  0.  0.  0.  0.\n",
      "  0.  0. -1. -1. -1. -1. -1.]\n",
      "[ 0.  0.  0.  0. -1.  0.  0.  0.  0. -1.  0.  0.  0.  0. -1.  0.  0. 10.\n",
      "  0. -1.  0.  0.  0.  0. -1.]\n"
     ]
    }
   ],
   "source": [
    "\n",
    "import numpy as np\n",
    "from numpy import array\n",
    "from scipy import io, sparse\n",
    "import os\n",
    "import sys # モジュール属性 argv を取得するため\n",
    "import subprocess\n",
    "\n",
    "\n",
    "\n",
    "\n",
    "waribiki=0.99\n",
    "\n",
    "#行動1による報酬ベクトルr1を決定\n",
    "r1=np.zeros(25)\n",
    "for i in range(5):\n",
    "    r1[i]=-1\n",
    "r1[23]=10\n",
    "\n",
    "#行動2による報酬ベクトルr2を決定\n",
    "r2=np.zeros(25)\n",
    "for i in range(5):\n",
    "    r2[5*i]=-1\n",
    "r2[19]=10\n",
    "\n",
    "#行動3による報酬ベクトルr3を決定\n",
    "r3=np.zeros(25)\n",
    "for i in range(5):\n",
    "    r3[i+20]=-1\n",
    "r3[13]=10\n",
    "\n",
    "#行動4による報酬ベクトルr4を決定\n",
    "r4=np.zeros(25)\n",
    "for i in range(5):\n",
    "    r4[5*i+4]=-1\n",
    "r4[17]=10\n",
    "\n",
    "print(r1)\n",
    "print(r2)\n",
    "print(r3)\n",
    "print(r4)"
   ]
  },
  {
   "cell_type": "code",
   "execution_count": 299,
   "metadata": {},
   "outputs": [],
   "source": [
    "from numpy import *\n",
    "from scipy import io, sparse\n",
    "\n",
    "#行動１による状態遷移確率行列\n",
    "A1=sparse.lil_matrix((25,25))\n",
    "for i in range(5):\n",
    "    A1[i,i]=1\n",
    "for i in range(20):\n",
    "    A1[i+5,i]=1\n",
    "A1[23,18]=0\n",
    "A1[23,1]=1\n",
    "\n",
    "\n",
    "#行動２による状態遷移確率行列\n",
    "A2=sparse.lil_matrix((25,25))\n",
    "for i in range(25):\n",
    "    if i%5==0:\n",
    "        A2[i,i]=1\n",
    "    if i%5>0:\n",
    "        A2[i,i-1]=1\n",
    "A2[19,18]=0\n",
    "A2[19,1]=1\n",
    "\n",
    "#行動3による状態遷移確率行列\n",
    "A3=sparse.lil_matrix((25,25))\n",
    "for i in range(5):\n",
    "    A3[i+20,i+20]=1    \n",
    "for i in range(20):\n",
    "    A3[i,i+5]=1\n",
    "A3[13,18]=0\n",
    "A3[13,1]=1\n",
    "\n",
    "#行動4による状態遷移確率行列\n",
    "A4=sparse.lil_matrix((25,25))\n",
    "for i in range(25):\n",
    "    if i%5==4:\n",
    "        A4[i,i]=1\n",
    "    if i%5<4:\n",
    "        A4[i,i+1]=1\n",
    "A4[17,18]=0\n",
    "A4[17,1]=1\n",
    "\n"
   ]
  },
  {
   "cell_type": "code",
   "execution_count": 301,
   "metadata": {},
   "outputs": [
    {
     "name": "stdout",
     "output_type": "stream",
     "text": [
      "  (0, 0)\t1.0\n",
      "  (1, 0)\t1.0\n",
      "  (2, 1)\t1.0\n",
      "  (3, 2)\t1.0\n",
      "  (4, 3)\t1.0\n",
      "  (5, 5)\t1.0\n",
      "  (6, 5)\t1.0\n",
      "  (7, 6)\t1.0\n",
      "  (8, 7)\t1.0\n",
      "  (9, 8)\t1.0\n",
      "  (10, 10)\t1.0\n",
      "  (11, 10)\t1.0\n",
      "  (12, 11)\t1.0\n",
      "  (13, 12)\t1.0\n",
      "  (14, 13)\t1.0\n",
      "  (15, 15)\t1.0\n",
      "  (16, 15)\t1.0\n",
      "  (17, 16)\t1.0\n",
      "  (18, 17)\t1.0\n",
      "  (19, 1)\t1.0\n",
      "  (20, 20)\t1.0\n",
      "  (21, 20)\t1.0\n",
      "  (22, 21)\t1.0\n",
      "  (23, 22)\t1.0\n",
      "  (24, 23)\t1.0\n"
     ]
    }
   ],
   "source": [
    "print(A2)"
   ]
  },
  {
   "cell_type": "code",
   "execution_count": 302,
   "metadata": {},
   "outputs": [],
   "source": [
    "#初期方策\n",
    "from numpy.random import *\n",
    "V=randn(25)\n",
    "num=1"
   ]
  },
  {
   "cell_type": "code",
   "execution_count": 303,
   "metadata": {},
   "outputs": [
    {
     "data": {
      "text/plain": [
       "array([ 0.8089327 , -1.62140186, -0.15438417, -1.00430898, -0.51212934,\n",
       "        0.73657068, -1.43636234, -1.19417202, -1.0360144 , -0.2123517 ,\n",
       "        0.2178261 ,  0.35749833,  0.47771754,  0.85734455,  0.98234137,\n",
       "        1.09093672, -0.88257903, -1.22206446,  0.30760464,  0.57306957,\n",
       "        0.54841343,  3.08286169,  0.13026768, -1.09675056, -0.88123712])"
      ]
     },
     "execution_count": 303,
     "metadata": {},
     "output_type": "execute_result"
    }
   ],
   "source": []
  },
  {
   "cell_type": "code",
   "execution_count": 316,
   "metadata": {},
   "outputs": [
    {
     "name": "stdout",
     "output_type": "stream",
     "text": [
      "pi created\n",
      "teisu-ko created\n",
      "uhenkeisu created\n",
      "[3. 3. 3. 3. 3.]\n",
      "[3. 3. 3. 3. 3.]\n",
      "[3. 3. 3. 3. 2.]\n",
      "[4. 4. 4. 1. 2.]\n",
      "[1. 1. 1. 1. 1.]\n",
      "10\n"
     ]
    }
   ],
   "source": [
    "#iteration\n",
    "\n",
    "num=num+1 #イテレーション回数\n",
    "\n",
    "#行動価値関数つくる\n",
    "Q1=r1+waribiki*A1*V\n",
    "Q2=r2+waribiki*A2*V\n",
    "Q3=r3+waribiki*A3*V\n",
    "Q4=r4+waribiki*A4*V\n",
    "\n",
    "#行動価値観数に基づいて方策改善\n",
    "pi1=np.zeros(25)\n",
    "pi2=np.zeros(25)\n",
    "pi3=np.zeros(25)\n",
    "pi4=np.zeros(25)\n",
    "for i in range(25):\n",
    "    pi1[i]=1*(Q1[i]==max(Q1[i],Q2[i],Q3[i],Q4[i]))\n",
    "    pi2[i]=1*(Q2[i]==max(Q1[i],Q2[i],Q3[i],Q4[i]))*(1-pi1[i])\n",
    "    pi3[i]=1*(Q3[i]==max(Q1[i],Q2[i],Q3[i],Q4[i]))*(1-pi1[i])*(1-pi2[i])\n",
    "    pi4[i]=1-pi1[i]-pi2[i]-pi3[i]\n",
    "\n",
    " \n",
    "P1 = sparse.lil_matrix((25,25))\n",
    "P1.setdiag( pi1) \n",
    "P2 = sparse.lil_matrix((25,25))\n",
    "P2.setdiag( pi2 ) \n",
    "P3 = sparse.lil_matrix((25,25))\n",
    "P3.setdiag( pi3 ) \n",
    "P4 = sparse.lil_matrix((25,25))\n",
    "P4.setdiag( pi4 ) \n",
    "\n",
    "print(\"pi created\")\n",
    "\n",
    "teisu=P1*r1+P4*r4+P3*r3+P2*r2\n",
    "print(\"teisu-ko created\")\n",
    "E = sparse.lil_matrix((25,25))\n",
    "x=np.ones(25)\n",
    "E.setdiag(x)\n",
    "keisu=E-waribiki*(P1*A1+P2*A2+P3*A3+P4*A4)\n",
    "keisu=keisu.tocsr()\n",
    "print(\"uhenkeisu created\")\n",
    "\n",
    "\n",
    "#keisu＊V＝teisuなので、両辺にkeisu-1を掛ければ良い。\n",
    "keisu2=keisu.todense()\n",
    "keisu_inv=np.linalg.inv(keisu2)\n",
    "\n",
    "V=np.dot(keisu_inv,teisu)\n",
    "V=np.squeeze(np.asarray(V))\n",
    "pi=pi1+2*pi2+3*pi3+4*pi4\n",
    "print(pi[0:5])\n",
    "print(pi[5:10])\n",
    "print(pi[10:15])\n",
    "print(pi[15:20])\n",
    "print(pi[20:25])\n",
    "print(num)"
   ]
  },
  {
   "cell_type": "code",
   "execution_count": 313,
   "metadata": {},
   "outputs": [
    {
     "data": {
      "text/plain": [
       "3"
      ]
     },
     "execution_count": 313,
     "metadata": {},
     "output_type": "execute_result"
    }
   ],
   "source": [
    "max(1,2,3)"
   ]
  },
  {
   "cell_type": "code",
   "execution_count": 317,
   "metadata": {},
   "outputs": [
    {
     "ename": "SyntaxError",
     "evalue": "invalid syntax (<ipython-input-317-a12c1c826711>, line 18)",
     "output_type": "error",
     "traceback": [
      "\u001b[0;36m  File \u001b[0;32m\"<ipython-input-317-a12c1c826711>\"\u001b[0;36m, line \u001b[0;32m18\u001b[0m\n\u001b[0;31m    pi2[i]=1*(Q2[i]==max(Q1[i],Q2[i],Q3[i],Q4[i])*(1-pi1[i])\u001b[0m\n\u001b[0m      ^\u001b[0m\n\u001b[0;31mSyntaxError\u001b[0m\u001b[0;31m:\u001b[0m invalid syntax\n"
     ]
    }
   ],
   "source": [
    "#iteration\n",
    "for q in range(100):\n",
    "    num=num+1 #イテレーション回数\n",
    "\n",
    "#行動価値関数つくる\n",
    "    Q1=r1+waribiki*A1*V\n",
    "    Q2=r2+waribiki*A2*V\n",
    "    Q3=r3+waribiki*A3*V\n",
    "    Q4=r4+waribiki*A4*V\n",
    "\n",
    "#行動価値観数に基づいて方策改善\n",
    "    pi1=np.zeros(25)\n",
    "    pi2=np.zeros(25)\n",
    "    pi3=np.zeros(25)\n",
    "    pi4=np.zeros(25)\n",
    "    for i in range(25):\n",
    "        pi1[i]=1*(Q1[i]==max(Q1[i],Q2[i],Q3[i],Q4[i])\n",
    "        pi2[i]=1*(Q2[i]==max(Q1[i],Q2[i],Q3[i],Q4[i])*(1-pi1[i])\n",
    "        pi3[i]=1*(Q3[i]==max(Q1[i],Q2[i],Q3[i],Q4[i])*(1-pi1[i])*(1-pi2[i])\n",
    "        pi4[i]=1-pi1[i]-pi2[i]-pi3[i]\n",
    "\n",
    " \n",
    "    P1 = sparse.lil_matrix((25,25))\n",
    "    P1.setdiag( pi1) \n",
    "    P2 = sparse.lil_matrix((25,25))\n",
    "    P2.setdiag( pi2 ) \n",
    "    P3 = sparse.lil_matrix((25,25))\n",
    "    P3.setdiag( pi3 ) \n",
    "    P4 = sparse.lil_matrix((25,25))\n",
    "    P4.setdiag( pi4 ) \n",
    "\n",
    "  \n",
    "    teisu=P1*r1+P4*r4+P3*r3+P2*r2\n",
    "    #print(\"teisu-ko created\")\n",
    "    E = sparse.lil_matrix((25,25))\n",
    "    x=np.ones(25)\n",
    "    E.setdiag(x)\n",
    "    keisu=E-waribiki*(P1*A1+P2*A2+P3*A3+P4*A4)\n",
    "    keisu=keisu.tocsr()\n",
    "    #print(\"uhenkeisu created\")\n",
    "\n",
    "\n",
    "    #keisu＊V＝teisuなので、両辺にkeisu-1を掛ければ良い。\n",
    "    keisu2=keisu.todense()\n",
    "    keisu_inv=np.linalg.inv(keisu2)\n",
    "\n",
    "    V=np.dot(keisu_inv,teisu)\n",
    "    V=np.squeeze(np.asarray(V))\n",
    "    pi=pi1+2*pi2+3*pi3+4*pi4\n",
    "print(pi[0:5])\n",
    "print(pi[5:10])\n",
    "print(pi[10:15])\n",
    "print(pi[15:20])\n",
    "print(pi[20:25])\n",
    "print(num)"
   ]
  },
  {
   "cell_type": "code",
   "execution_count": 273,
   "metadata": {},
   "outputs": [
    {
     "data": {
      "text/plain": [
       "array([ 194.04019958,  196.0002016 ,  197.98000162,  199.97979961,\n",
       "       -100.        ,  196.0002016 ,  197.98000162,  199.97979961,\n",
       "        201.99979759, -100.        ,  197.98000162,  199.97979961,\n",
       "        201.99979759,  204.04019958, -100.        ,  199.97979961,\n",
       "        201.99979759,  204.04019958,  201.99979759,  204.04019958,\n",
       "        197.98000162,  199.97979961,  201.99979759,  204.04019958,\n",
       "       -100.        ])"
      ]
     },
     "execution_count": 273,
     "metadata": {},
     "output_type": "execute_result"
    }
   ],
   "source": [
    "V"
   ]
  },
  {
   "cell_type": "code",
   "execution_count": 275,
   "metadata": {},
   "outputs": [
    {
     "data": {
      "text/plain": [
       "array([ 194.04019958,  196.0002016 ,  197.98000162,  199.97979961,\n",
       "       -100.        ,  196.0002016 ,  197.98000162,  199.97979961,\n",
       "        201.99979759, -100.        ,  197.98000162,  199.97979961,\n",
       "        201.99979759,  204.04019958, -100.        ,  199.97979961,\n",
       "        201.99979759,  204.04019958,  201.99979759,  204.04019958,\n",
       "        197.98000162,  199.97979961,  201.99979759,  204.04019958,\n",
       "       -100.        ])"
      ]
     },
     "execution_count": 275,
     "metadata": {},
     "output_type": "execute_result"
    }
   ],
   "source": [
    "V"
   ]
  },
  {
   "cell_type": "code",
   "execution_count": null,
   "metadata": {},
   "outputs": [],
   "source": []
  }
 ],
 "metadata": {
  "kernelspec": {
   "display_name": "Python 3",
   "language": "python",
   "name": "python3"
  },
  "language_info": {
   "codemirror_mode": {
    "name": "ipython",
    "version": 3
   },
   "file_extension": ".py",
   "mimetype": "text/x-python",
   "name": "python",
   "nbconvert_exporter": "python",
   "pygments_lexer": "ipython3",
   "version": "3.6.5"
  }
 },
 "nbformat": 4,
 "nbformat_minor": 2
}
